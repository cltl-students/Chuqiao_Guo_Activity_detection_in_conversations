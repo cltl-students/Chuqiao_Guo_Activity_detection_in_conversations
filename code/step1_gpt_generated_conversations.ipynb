{
 "cells": [
  {
   "cell_type": "markdown",
   "metadata": {},
   "source": [
    "# Generate Conversations by Prompt Engineering"
   ]
  },
  {
   "cell_type": "markdown",
   "metadata": {},
   "source": [
    "This notebook generates natural conversations between a patient and a healthcare chatbot. In the conversations, the patient describes their daily activities to the chatbot, and the chatbot asks further questions for more detailed information."
   ]
  },
  {
   "cell_type": "markdown",
   "metadata": {},
   "source": [
    "This step utilises code from the following GitHub repository:\n",
    "\n",
    "[ICF-activities-classifier](https: //github.com/cltl-students/ICF-activities-classifier)"
   ]
  },
  {
   "cell_type": "code",
   "execution_count": 1,
   "metadata": {},
   "outputs": [],
   "source": [
    "import os\n",
    "os.environ[\"OPENAI_API_KEY\"] = '' # Enter OpenAI API key"
   ]
  },
  {
   "cell_type": "code",
   "execution_count": 2,
   "metadata": {},
   "outputs": [],
   "source": [
    "import openai\n",
    "import os\n",
    "import IPython\n",
    "import time\n",
    "import json\n",
    "# from dotenv import load_dotenv\n",
    "# load_dotenv()\n"
   ]
  },
  {
   "cell_type": "code",
   "execution_count": 3,
   "metadata": {},
   "outputs": [
    {
     "name": "stdout",
     "output_type": "stream",
     "text": [
      "OpenAI API Key: \n"
     ]
    }
   ],
   "source": [
    "# Check the OpenAI API key is set\n",
    "print(\"OpenAI API Key: {}\".format(openai.api_key))"
   ]
  },
  {
   "cell_type": "code",
   "execution_count": 4,
   "metadata": {},
   "outputs": [],
   "source": [
    "# Define the categories under the ICF framework\n",
    "ICF_defs = {\n",
    "    \"mobility\": \"about moving by changing body position or location or by transferring from one place to another, by carrying, moving or manipulating objects, by walking, running or climbing, and by using various forms of transportation\",\n",
    "\n",
    "    \"self-care\": \"about caring for oneself, washing and drying oneself, caring for one's body and body parts, dressing, eating and drinking, and looking after one's health\",\n",
    "\n",
    "    \"domestic life\": \"about carrying out domestic and everyday actions and tasks. Areas of domestic life include caring for one's belongings and space, acquiring food, clothing and other necessities, household cleaning and repairing, caring for personal and other household objects, and assisting others\"\n",
    "            }"
   ]
  },
  {
   "cell_type": "code",
   "execution_count": 6,
   "metadata": {},
   "outputs": [],
   "source": [
    "# Define the specific activities under each category\n",
    "allevents = {\n",
    "    \"mobility\": {\n",
    "        \"changing and maintaining body position\": \"getting up from a chair to lie down on a bed, getting into or out of sitting, standing, kneeling or squatting, maintaining seated, remaining standing and transfering oneself\",\n",
    "\n",
    "        \"carrying, moving and handling objects\": \"lifting, carrying, kicking a ball, pushing bicycle pedal, using one's hands, fingers and thumbs, using one's hands and arms, and using one's foot and toes\",\n",
    "\n",
    "        \"walking and moving\": \"walking, going up stairs, going down stairs, skipping, sacmpering, jummping, someraulting, skating, skiing, using a self-propelled wheelchair and walking with a walker\",\n",
    "\n",
    "        \"moving around using transportation\": \"taking a taxi, bus, tram, train, subway, boat, airplane or a car, driving a car or a boat, riding a bike and riding a horse or a camel\",\n",
    "    },\n",
    "\n",
    "    \"self-care\": {\n",
    "        \"washing oneself\": \"bathing, showering, washing hands, washing feets, washing face, washing hair, drying body with a towel\",\n",
    "\n",
    "        \"caring for body\":\"doing skincare, brushing teeth, cutting nails and doing genital care\",\n",
    "\n",
    "        \"toileting\": \"cleaning menstruation, peeing, pooping, and cleaning oneself after toileting\",\n",
    "\n",
    "        \"dressing\": \"putting on clothings and taking off clothings\",\n",
    "\n",
    "        \"eating\": \"having meals, cutting food into pieces and using cutleries\",\n",
    "\n",
    "        \"drinking\": \"drinking, stirring liquids, pouring liquids, opening bottles and drinking with a straw\",\n",
    "\n",
    "        \"looking after one's health\": \"maintaining a balanced diet, keeping warm or cool and excercising\",\n",
    "    },\n",
    "\n",
    "    \"domestic life\": {\n",
    "        \"acquisition of necessities\":\"buying dewellings, renting dewellings, furnishing dewellings, arranging dewellings, selecting household goods, buying household goods, transporting household goods and acquring household services\",\n",
    "\n",
    "        \"household tasks\": \"preparing meals, making a menu, cooking meals, serving food, doing housework, cleaning the house, washing laundry, using household appliances, storing food and disposing garbage\",\n",
    "\n",
    "        \"caring for household objects and assisting others\": \"maintaining household, repairing household, taking care of plants or animals and assisting household members\",\n",
    "    },\n",
    "            }"
   ]
  },
  {
   "cell_type": "code",
   "execution_count": 7,
   "metadata": {},
   "outputs": [
    {
     "data": {
      "text/plain": [
       "dict_values([{'changing and maintaining body position': 'getting up from a chair to lie down on a bed, getting into or out of sitting, standing, kneeling or squatting, maintaining seated, remaining standing and transfering oneself', 'carrying, moving and handling objects': \"lifting, carrying, kicking a ball, pushing bicycle pedal, using one's hands, fingers and thumbs, using one's hands and arms, and using one's foot and toes\", 'walking and moving': 'walking, going up stairs, going down stairs, skipping, sacmpering, jummping, someraulting, skating, skiing, using a self-propelled wheelchair and walking with a walker', 'moving around using transportation': 'taking a taxi, bus, tram, train, subway, boat, airplane or a car, driving a car or a boat, riding a bike and riding a horse or a camel'}, {'washing oneself': 'bathing, showering, washing hands, washing feets, washing face, washing hair, drying body with a towel', 'caring for body': 'doing skincare, brushing teeth, cutting nails and doing genital care', 'toileting': 'cleaning menstruation, peeing, pooping, and cleaning oneself after toileting', 'dressing': 'putting on clothings and taking off clothings', 'eating': 'having meals, cutting food into pieces and using cutleries', 'drinking': 'drinking, stirring liquids, pouring liquids, opening bottles and drinking with a straw', \"looking after one's health\": 'maintaining a balanced diet, keeping warm or cool and excercising'}, {'acquisition of necessities': 'buying dewellings, renting dewellings, furnishing dewellings, arranging dewellings, selecting household goods, buying household goods, transporting household goods and acquring household services', 'household tasks': 'preparing meals, making a menu, cooking meals, serving food, doing housework, cleaning the house, washing laundry, using household appliances, storing food and disposing garbage', 'caring for household objects and assisting others': 'maintaining household, repairing household, taking care of plants or animals and assisting household members'}])"
      ]
     },
     "execution_count": 7,
     "metadata": {},
     "output_type": "execute_result"
    }
   ],
   "source": [
    "ICF_defs.values()\n",
    "allevents.values()"
   ]
  },
  {
   "cell_type": "code",
   "execution_count": 16,
   "metadata": {},
   "outputs": [],
   "source": [
    "def category_testset(category, definition, allevents, MODEL = \"gpt-3.5-turbo\", dir= '../response_data/raw_conversations/'):\n",
    "    \"\"\"\n",
    "    This is to generate dialogues acccording to categories in ICF by feeding the definitions of the each category to the prompt\n",
    "    \"\"\"\n",
    "\n",
    "    if not os.path.exists(dir):\n",
    "        os.makedirs(dir)\n",
    "    \n",
    "    count = 0\n",
    "    data = {f\"{category}\": []}  \n",
    "    text2write = \"\"\n",
    "    for subcategory, events in allevents[category].items():\n",
    "\n",
    "        query = [\n",
    "            {\"role\": \"system\", \"content\": \"Think as you are a real human.\"}, # Human\n",
    "            {\"role\": \"system\", \"content\": \"\"\"Generate one small and natural\n",
    "            conversation without greetings by playing the roles of a friend (F) \n",
    "            and an elderly patient (P). The conversation has 6 utterances, \n",
    "            mentioning one or two events. Each utterance should be completed\n",
    "            and has less than 20 tokens. The format is as below:\n",
    "            F: utterance\n",
    "            P: utternace\n",
    "            F: utterance\n",
    "            ...\n",
    "            \"\"\"}, # conversation format discription roles\n",
    "            \n",
    "            {\"role\": \"user\", \"content\": f\"The topic of the conversation is \n",
    "            about {category} events. In terms of functioning, {category} is \n",
    "            about {definition}. {category} events include {events}.\"}, # shifting details in the conversations\n",
    "            \n",
    "            {\"role\": \"user\", \"content\": f\"The patient can talk with the \n",
    "            friend about his/her daily life which can reflect his/her \n",
    "            functioning in {category}. The friend should ask when and \n",
    "            how the event occurs. \"}# descripe category with definitions (listing events)\n",
    "            ]\n",
    "        \n",
    "        num_60 = [\"self-care\"]\n",
    "        num_70 = [\"mobility\"]\n",
    "        num_80 = [\"domestic life\"]\n",
    "\n",
    "        if category in num_60:\n",
    "            num = 60\n",
    "        elif category in num_70:\n",
    "            num = 70\n",
    "        elif category in num_80:\n",
    "            num = 80\n",
    "\n",
    "        else:\n",
    "            print(f\"no such category: {category}\")\n",
    "\n",
    "        print(f\"gpt-runing {category} - {subcategory}\")\n",
    "        # MODEL = \"gpt-4o\"\n",
    "        response_query = openai.ChatCompletion.create(\n",
    "        model=MODEL,\n",
    "        messages=query,\n",
    "        temperature=1.5,\n",
    "        max_tokens = 150,\n",
    "        n = num, \n",
    "        )\n",
    "\n",
    "        print(f\"gpt finished {category} - {subcategory}\")\n",
    "        \n",
    "        # IPython.display.Markdown(response_query.choices[0]['message']['content'])\n",
    "        time.sleep(60)\n",
    "    \n",
    "        for text in response_query.choices:\n",
    "            conversation = text['message']['content']\n",
    "            one_conversation = conversation + '\\n'+'-'*10 +'\\n'\n",
    "            data[f\"{category}\"].append(conversation)\n",
    "            text2write += one_conversation\n",
    "            count += 1\n",
    "\n",
    "    with open (f'{dir}{category}.txt','w') as tfile:\n",
    "        tfile.write(text2write)\n",
    "\n",
    "    with open (f'{dir}{category}.json','w', encoding='utf-8') as jfile:\n",
    "            json.dump(data,jfile, ensure_ascii=False, indent=4)\n",
    "\n",
    "    print(f\"generated {count} {category} conversations\")\n",
    "    print(\"-\"*30)\n",
    "    print(\"\\n\")\n"
   ]
  },
  {
   "cell_type": "code",
   "execution_count": 15,
   "metadata": {},
   "outputs": [
    {
     "name": "stdout",
     "output_type": "stream",
     "text": [
      "gpt-runing mobility - changing and maintaining body position\n",
      "gpt finished mobility - changing and maintaining body position\n",
      "gpt-runing mobility - carrying, moving and handling objects\n",
      "gpt finished mobility - carrying, moving and handling objects\n",
      "gpt-runing mobility - walking and moving\n",
      "gpt finished mobility - walking and moving\n",
      "gpt-runing mobility - moving around using transportation\n",
      "gpt finished mobility - moving around using transportation\n",
      "generated 280 mobility conversations\n",
      "------------------------------\n",
      "\n",
      "\n",
      "gpt-runing self-care - washing oneself\n",
      "gpt finished self-care - washing oneself\n",
      "gpt-runing self-care - caring for body\n",
      "gpt finished self-care - caring for body\n",
      "gpt-runing self-care - toileting\n",
      "gpt finished self-care - toileting\n",
      "gpt-runing self-care - dressing\n",
      "gpt finished self-care - dressing\n",
      "gpt-runing self-care - eating\n",
      "gpt finished self-care - eating\n",
      "gpt-runing self-care - drinking\n",
      "gpt finished self-care - drinking\n",
      "gpt-runing self-care - looking after one's health\n",
      "gpt finished self-care - looking after one's health\n",
      "generated 420 self-care conversations\n",
      "------------------------------\n",
      "\n",
      "\n",
      "gpt-runing domestic life - acquisition of necessities\n",
      "gpt finished domestic life - acquisition of necessities\n",
      "gpt-runing domestic life - household tasks\n",
      "gpt finished domestic life - household tasks\n",
      "gpt-runing domestic life - caring for household objects and assisting others\n",
      "gpt finished domestic life - caring for household objects and assisting others\n",
      "generated 240 domestic life conversations\n",
      "------------------------------\n",
      "\n",
      "\n",
      "done\n"
     ]
    }
   ],
   "source": [
    "for category, definition, in ICF_defs.items():\n",
    "    category_testset(category, definition, allevents)\n",
    "print(\"done\")"
   ]
  }
 ],
 "metadata": {
  "kernelspec": {
   "display_name": "base",
   "language": "python",
   "name": "python3"
  },
  "language_info": {
   "codemirror_mode": {
    "name": "ipython",
    "version": 3
   },
   "file_extension": ".py",
   "mimetype": "text/x-python",
   "name": "python",
   "nbconvert_exporter": "python",
   "pygments_lexer": "ipython3",
   "version": "3.9.13"
  },
  "orig_nbformat": 4
 },
 "nbformat": 4,
 "nbformat_minor": 2
}
