{
 "cells": [
  {
   "cell_type": "markdown",
   "metadata": {},
   "source": [
    "# Annotation to BIO\n",
    "This Notebook converts the manually annotated file \"annotation_test.tsv\" and \"annotation_dev.tsv\" to a ready-to-evaluation format.\n",
    "\n",
    "The output file only contains the conversation id, sentence id, token id, token, and the BIO system labels."
   ]
  },
  {
   "cell_type": "code",
   "execution_count": 1,
   "metadata": {},
   "outputs": [],
   "source": [
    "import pandas as pd\n",
    "import csv"
   ]
  },
  {
   "cell_type": "code",
   "execution_count": 2,
   "metadata": {},
   "outputs": [],
   "source": [
    "def initialise_label_list(input_file):\n",
    "    \"\"\"\n",
    "    Initialise a list of labels with \"O\"s for each token in the input file.\n",
    "    The list will be used to store the labels of the tokens in the input file.\n",
    "    \"\"\"\n",
    "    \n",
    "    # Count the number of tokens in the file to create an initialised list of labels (full of \"O\"s)\n",
    "    line_count = 0\n",
    "\n",
    "    # Read the file and count the row number\n",
    "    with open(input_file, 'r', encoding='utf-8') as file:\n",
    "\n",
    "        # Skip empty lines\n",
    "        for row in file:\n",
    "            if row[0].strip() == \"\":\n",
    "                continue\n",
    "            \n",
    "            # Skip the whole sentences\n",
    "            try:\n",
    "                int(row[0])\n",
    "            except ValueError:\n",
    "                continue\n",
    "\n",
    "            # Increment the line count when a token is found\n",
    "            line_count += 1\n",
    "\n",
    "    print('Number of tokens in the file: {}'.format(line_count))\n",
    "\n",
    "    # Initialise the list of labels with \"O\"s\n",
    "    label_list = ['O'] * line_count\n",
    "\n",
    "    # Check the label list\n",
    "    # print(label_list)\n",
    "    \n",
    "    return label_list"
   ]
  },
  {
   "cell_type": "code",
   "execution_count": 3,
   "metadata": {},
   "outputs": [],
   "source": [
    "def add_B_prefixes(input_file, label_list):\n",
    "    \"\"\"\n",
    "    Add the B- prefixes to the labels in the label list.\n",
    "    The B- prefixes are added to the labels that are not '-'\n",
    "    \"\"\"\n",
    "    \n",
    "    # Read the file and update the label list by adding the B- prefixes\n",
    "\n",
    "    with open(input_file, 'r', encoding='utf-8') as f:\n",
    "        reader = csv.reader(f, delimiter='\\t')\n",
    "        # writer = csv.writer(out_f, delimiter='\\t')\n",
    "        \n",
    "        # Read the header\n",
    "        header = next(reader)\n",
    "        \n",
    "        row_index = 0\n",
    "        for row in reader:\n",
    "            \n",
    "            # Skip empty lines\n",
    "            if row[0].strip() == \"\":\n",
    "                continue\n",
    "            \n",
    "            # Skip if it is a whole sentence\n",
    "            try:\n",
    "                int(row[0])\n",
    "            except ValueError:\n",
    "                # print(row)\n",
    "                continue\n",
    "            \n",
    "            for i in range (4, len(row)):\n",
    "                if row[i].strip() != '-':\n",
    "                    label_list[row_index] = f\"B-{header[i]}\"\n",
    "            row_index += 1\n",
    "    print(row_index)\n",
    "    # print(label_list)\n",
    "\n",
    "    return label_list"
   ]
  },
  {
   "cell_type": "code",
   "execution_count": 4,
   "metadata": {},
   "outputs": [],
   "source": [
    "def update_labels(label_list):\n",
    "    \"\"\"\n",
    "    Update the label list by adding the I- prefixes when adjacent tokens have the same label.\n",
    "    \"\"\"\n",
    "    \n",
    "    # Update the label list by adding the I- prefixes when adjacent tokens have the same label\n",
    "\n",
    "    # Create a new list to store the updated labels\n",
    "    new_label_list = []\n",
    "\n",
    "    # Iterate over the label list\n",
    "    for i in range(len(label_list)):\n",
    "\n",
    "        # If the current label is the first one or different from the previous one, add it to the new list\n",
    "        if i == 0 or label_list[i] != label_list[i - 1]:\n",
    "            new_label_list.append(label_list[i])\n",
    "        else:\n",
    "            # If the current label is the same as the previous one, update the label as I- prefixed\n",
    "\n",
    "            if label_list[i].startswith('B-'):\n",
    "                # Replace the 'B-' prefix with 'I-'\n",
    "                new_label_list.append('I-' + label_list[i][2:])\n",
    "            else:\n",
    "                # If the label does not start with 'B-', add it to the new list\n",
    "                new_label_list.append(label_list[i])\n",
    "\n",
    "    # Check the updated label list\n",
    "    # print(new_label_list)\n",
    "\n",
    "    return new_label_list\n"
   ]
  },
  {
   "cell_type": "code",
   "execution_count": 5,
   "metadata": {},
   "outputs": [],
   "source": [
    "def write_updated_labels(input_file, output_file, new_label_list):\n",
    "    \"\"\"\n",
    "    Write the updated labels to the output file as a new column.\n",
    "    \"\"\"\n",
    "    \n",
    "    # Write the updated labels to the output file as a new column\n",
    "\n",
    "    with open(input_file, 'r', encoding='utf-8') as f, open(output_file, 'w', encoding='utf-8') as out_f:\n",
    "        reader = csv.reader(f, delimiter='\\t')\n",
    "        writer = csv.writer(out_f, delimiter='\\t')\n",
    "        \n",
    "        # Read the header\n",
    "        header = next(reader)\n",
    "        header = [h.strip() for h in header]\n",
    "        new_header = header[:4] + ['label']\n",
    "        writer.writerow(new_header)\n",
    "        # print(header)\n",
    "        \n",
    "        row_index = 0\n",
    "        for row in reader:\n",
    "            \n",
    "            # Skip empty lines\n",
    "            if row[0].strip() == \"\":\n",
    "                continue\n",
    "            \n",
    "            # Skip if it is a whole sentence\n",
    "\n",
    "            try:\n",
    "                int(row[0])\n",
    "            except ValueError:\n",
    "                # print(row)\n",
    "                continue\n",
    "\n",
    "            row_index += 1\n",
    "\n",
    "            # Write the updated labels to the output file\n",
    "            row[0] = row[0].strip()\n",
    "            writer.writerow(row[:4] + [new_label_list[row_index - 1]])"
   ]
  },
  {
   "cell_type": "code",
   "execution_count": 6,
   "metadata": {},
   "outputs": [],
   "source": [
    "def add_BIO_labels(input_file, output_file):\n",
    "    label_list = initialise_label_list(input_file)\n",
    "    label_list = add_B_prefixes(input_file, label_list)\n",
    "    new_label_list = update_labels(label_list)\n",
    "    write_updated_labels(input_file, output_file, new_label_list)"
   ]
  },
  {
   "cell_type": "code",
   "execution_count": 8,
   "metadata": {},
   "outputs": [],
   "source": [
    "# Load the data\n",
    "input_file_test = './response_data/dataset/annotation_test.tsv'\n",
    "output_file_test = './response_data/dataset/annotation_test_processed.tsv'\n",
    "\n",
    "input_file_dev = './response_data/dataset/annotation_dev.tsv'\n",
    "output_file_dev = './response_data/dataset/annotation_dev_processed.tsv'"
   ]
  },
  {
   "cell_type": "code",
   "execution_count": 9,
   "metadata": {},
   "outputs": [
    {
     "name": "stdout",
     "output_type": "stream",
     "text": [
      "Number of tokens in the file: 5695\n",
      "5695\n"
     ]
    }
   ],
   "source": [
    "# Process the test set\n",
    "add_BIO_labels(input_file_test, output_file_test)\n",
    "\n",
    "# Process the dev set\n",
    "add_BIO_labels(input_file_dev, output_file_dev)"
   ]
  }
 ],
 "metadata": {
  "kernelspec": {
   "display_name": "myvenv",
   "language": "python",
   "name": "python3"
  },
  "language_info": {
   "codemirror_mode": {
    "name": "ipython",
    "version": 3
   },
   "file_extension": ".py",
   "mimetype": "text/x-python",
   "name": "python",
   "nbconvert_exporter": "python",
   "pygments_lexer": "ipython3",
   "version": "3.9.13"
  }
 },
 "nbformat": 4,
 "nbformat_minor": 2
}
