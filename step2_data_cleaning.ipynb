{
 "cells": [
  {
   "cell_type": "markdown",
   "metadata": {},
   "source": [
    "# Data Cleaning\n",
    "This notebook formats the generated data and calculates the statistics of the dataset"
   ]
  },
  {
   "cell_type": "code",
   "execution_count": 16,
   "metadata": {},
   "outputs": [],
   "source": [
    "import json\n",
    "import re\n",
    "import emoji\n",
    "import glob\n",
    "import pandas as pd\n",
    "import nltk\n",
    "import random\n",
    "import os"
   ]
  },
  {
   "cell_type": "code",
   "execution_count": null,
   "metadata": {},
   "outputs": [],
   "source": [
    "# This function is taken from: https://github.com/cltl-students/ICF-activities-classifier\n",
    "\n",
    "def clean_conversations_format(conversations):\n",
    "    \n",
    "    new_conversations = []\n",
    "    regex = \" {2,}\" # remove multiple space\n",
    "    regex_2 = \"\\n {1,}\\n\" # remove irregular \\n\n",
    "    regex_3 = \"\\n {1,}\"\n",
    "    regex_4 = \"[$/<>\\\"+\\\\\\)(}{]\" # remove the simble\n",
    "    regex_5 = \"\\n{2,}\" # change \\n\\n to \\n and use \\n as separator\n",
    "    regex_6 = \"\\t{1,}\"\n",
    "    for c in conversations:\n",
    "        multiple_s = re.findall(regex, c)\n",
    "        c = re.sub(regex,\" \", c) # change to one space\n",
    "        c = re.sub(regex_2, \"\\n\\n\",c) #\n",
    "        c = re.sub(regex_3,\" \", c) # change to one space\n",
    "        c = re.sub(regex_4, \"\", c)\n",
    "        c = re.sub(regex_5, \"\\n\",c)\n",
    "        c = re.sub(regex_6, \"\", c)\n",
    "        emoji.replace_emoji(c)\n",
    "        c = emoji.replace_emoji(c)\n",
    "\n",
    "        new_conversations.append(c)\n",
    "\n",
    "    return new_conversations\n"
   ]
  },
  {
   "cell_type": "code",
   "execution_count": 18,
   "metadata": {},
   "outputs": [],
   "source": [
    "# Remove role labels and gibberish text\n",
    "\n",
    "def remove_role_and_gibberish_text(new_conversations):\n",
    "    '''\n",
    "    This function removes role labels and gibberish text from the conversations.\n",
    "    '''\n",
    "    \n",
    "    list_con_utterances = [] \n",
    "    count_utterances = 0\n",
    "\n",
    "    for con in new_conversations:\n",
    "        utterances = con.split(\"\\n\")\n",
    "        remove_head_u = []\n",
    "        skip_conversation = False\n",
    "\n",
    "        for u in utterances:\n",
    "            # Check if any sentence length exceeds 20\n",
    "            if len(u.split()) >= 20:\n",
    "                skip_conversation = True\n",
    "                break\n",
    "\n",
    "            # Check if any word in the sentence exceeds 20 characters\n",
    "            words = u.split()\n",
    "            if any(len(word) >= 20 for word in words):\n",
    "                skip_conversation = True\n",
    "                break\n",
    "\n",
    "            # Remove role labels\n",
    "            if u.startswith(\"F: \"):\n",
    "                u = u.replace(\"F: \", \"\")\n",
    "            elif u.startswith(\"F:\"):\n",
    "                u = u.replace(\"F:\", \"\")\n",
    "            elif u.startswith(\"P: \"):\n",
    "                u = u.replace(\"P: \", \"\")\n",
    "            elif u.startswith(\"P:\"):\n",
    "                u = u.replace(\"P:\", \"\")\n",
    "            elif u.startswith(\"Friend: \"):\n",
    "                u = u.replace(\"Friend: \", \"\")\n",
    "            elif u.startswith(\"Patient:\"):\n",
    "                u = u.replace(\"Patient:\", \"\")\n",
    "            elif u.startswith(\" \"):\n",
    "                u = u.replace(\" \", \"\")\n",
    "\n",
    "            if len(u) > 1:\n",
    "                remove_head_u.append(u)\n",
    "        \n",
    "        if skip_conversation:\n",
    "            continue\n",
    "\n",
    "        list_con_utterances.append(remove_head_u)\n",
    "        count_utterances += len(remove_head_u)\n",
    "        list_con_utterances.append([\"-\"*20])\n",
    "\n",
    "    list_u_sep = []\n",
    "    for l in list_con_utterances:\n",
    "        for s in l:\n",
    "            list_u_sep.append(s)\n",
    "    \n",
    "    return list_u_sep, count_utterances\n"
   ]
  },
  {
   "cell_type": "code",
   "execution_count": 19,
   "metadata": {},
   "outputs": [
    {
     "name": "stdout",
     "output_type": "stream",
     "text": [
      "Category: mobility, Conversations: 241, Utterances: 2049\n",
      "Category: domestic life, Conversations: 219, Utterances: 1921\n",
      "Category: self-care, Conversations: 335, Utterances: 2944\n",
      "\n",
      "finished 3 files, total: 795 conversations, 6914 utterances\n"
     ]
    }
   ],
   "source": [
    "if not os.path.exists('./response_data/clean_conversations'):\n",
    "    os.makedirs('./response_data/clean_conversations')\n",
    "\n",
    "dir = './response_data/'\n",
    "count_all_utterances = 0 \n",
    "n_file = 0\n",
    "\n",
    "# Get all the files in the raw_conversations folder\n",
    "files = glob.glob(f\"{dir}raw_conversations/*.json\")\n",
    "\n",
    "# Initiate a dictionary to store the number of conversations under each category\n",
    "file_conversation_counts = {}\n",
    "\n",
    "# Iterate through all the files\n",
    "for f in files:\n",
    "    n_file += 1  # count the number of files\n",
    "    with open(f) as infile:\n",
    "        data = json.load(infile)\n",
    "\n",
    "    # Create a dict to store clean text\n",
    "    cleandata = dict()\n",
    "    for key, value in data.items():\n",
    "        category = key\n",
    "        conversations = value\n",
    "\n",
    "        # Clean the conversations\n",
    "        new_conversations = clean_conversations_format(conversations)  # list of strings\n",
    "        \n",
    "        # Remove roles from the conversations\n",
    "        list_u_sep, count_utterances = remove_role_and_gibberish_text(new_conversations)\n",
    "        \n",
    "        cleandata[category] = new_conversations\n",
    "\n",
    "        # wirte to tsv file\n",
    "        df = pd.DataFrame({'col':list_u_sep})\n",
    "        df.to_csv(f\"{dir}clean_conversations/{category}_clean.tsv\",sep=\"\\t\",index=False,header=[\"utterances\"])\n",
    "        \n",
    "        # write to json file\n",
    "        with open(f\"{dir}clean_conversations/{category}_clean.json\", \"w\", encoding=\"utf-8\") as jfile:\n",
    "            json.dump(cleandata, jfile, ensure_ascii=False, indent=4)\n",
    "        num_c = len(new_conversations)\n",
    "\n",
    "\n",
    "        # Count the number of conversations under each category\n",
    "        count_conversation = 1\n",
    "        count_utterence = 1\n",
    "        for utterance in list_u_sep:\n",
    "            if utterance == \"--------------------\":\n",
    "                count_conversation += 1\n",
    "                continue\n",
    "            count_utterence += 1\n",
    "\n",
    "        # Add the count result to the dictionary\n",
    "        file_conversation_counts[category] = (count_conversation,count_utterence)\n",
    "\n",
    "\n",
    "# Print results\n",
    "for category, (count_conversation, count_utterance) in file_conversation_counts.items():\n",
    "    print(f\"Category: {category}, Conversations: {count_conversation}, Utterances: {count_utterance}\")\n",
    "\n",
    "print()\n",
    "\n",
    "# print(f\"finished {n_file} files, total: {sum(file_conversation_counts.values())} conversations, {sum(file_conversation_counts.values())} utterances, \")\n",
    "\n",
    "\n",
    "print(f\"finished {n_file} files, total: {sum([count[0] for count in file_conversation_counts.values()])} conversations, {sum([count[1] for count in file_conversation_counts.values()])} utterances\")\n"
   ]
  },
  {
   "cell_type": "code",
   "execution_count": 20,
   "metadata": {},
   "outputs": [
    {
     "name": "stdout",
     "output_type": "stream",
     "text": [
      "totoal tokens of all conversations are 77072\n"
     ]
    }
   ],
   "source": [
    "tokenizer = nltk.tokenize.RegexpTokenizer(r'\\w+')\n",
    "count_token = 0\n",
    "files_tokens = glob.glob(\"./response_data/clean_conversations/*.tsv\")\n",
    "for f_token in files_tokens:\n",
    "    df_token = pd.read_csv(f\"{f_token}\", sep=\"\\t\", encoding=\"utf-8\", on_bad_lines='skip')\n",
    "    for u in df_token[\"utterances\"]:\n",
    "        tokens = tokenizer.tokenize(u)\n",
    "        count_t = len(tokens)\n",
    "        count_token += count_t\n",
    "print(\"totoal tokens of all conversations are\", count_token)"
   ]
  },
  {
   "cell_type": "code",
   "execution_count": 21,
   "metadata": {},
   "outputs": [],
   "source": [
    "def count_conversations(path_input):\n",
    "    count = 0\n",
    "    with open(path_input, \"r\") as f:\n",
    "        \n",
    "        lines = f.readlines()\n",
    "        # print(lines[:6])\n",
    "        for line in lines:\n",
    "            if line.startswith('-'):\n",
    "                count += 1\n",
    "\n",
    "        count_lines = len(lines)\n",
    "    print(\"total lines:\", count_lines)\n",
    "    print(\"total conversations :\", count)"
   ]
  },
  {
   "cell_type": "code",
   "execution_count": 22,
   "metadata": {},
   "outputs": [],
   "source": [
    "mobility = \"./response_data/raw_conversations/mobility.txt\"\n",
    "selfcare = \"./response_data/raw_conversations/self-care.txt\"\n",
    "domestic = \"./response_data/raw_conversations/domestic life.txt\""
   ]
  },
  {
   "cell_type": "code",
   "execution_count": 23,
   "metadata": {},
   "outputs": [
    {
     "name": "stdout",
     "output_type": "stream",
     "text": [
      "total lines: 2765\n",
      "total conversations : 280\n"
     ]
    }
   ],
   "source": [
    "count_conversations(mobility)"
   ]
  },
  {
   "cell_type": "code",
   "execution_count": 24,
   "metadata": {},
   "outputs": [
    {
     "name": "stdout",
     "output_type": "stream",
     "text": [
      "total lines: 4312\n",
      "total conversations : 420\n"
     ]
    }
   ],
   "source": [
    "count_conversations(selfcare)"
   ]
  },
  {
   "cell_type": "code",
   "execution_count": 25,
   "metadata": {},
   "outputs": [
    {
     "name": "stdout",
     "output_type": "stream",
     "text": [
      "total lines: 2413\n",
      "total conversations : 240\n"
     ]
    }
   ],
   "source": [
    "count_conversations(domestic)"
   ]
  }
 ],
 "metadata": {
  "kernelspec": {
   "display_name": "base",
   "language": "python",
   "name": "python3"
  },
  "language_info": {
   "codemirror_mode": {
    "name": "ipython",
    "version": 3
   },
   "file_extension": ".py",
   "mimetype": "text/x-python",
   "name": "python",
   "nbconvert_exporter": "python",
   "pygments_lexer": "ipython3",
   "version": "3.9.13"
  },
  "orig_nbformat": 4
 },
 "nbformat": 4,
 "nbformat_minor": 2
}
